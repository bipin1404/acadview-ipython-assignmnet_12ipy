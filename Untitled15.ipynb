{
  "nbformat": 4,
  "nbformat_minor": 0,
  "metadata": {
    "colab": {
      "name": "Untitled15.ipynb",
      "version": "0.3.2",
      "provenance": []
    },
    "kernelspec": {
      "name": "python3",
      "display_name": "Python 3"
    }
  },
  "cells": [
    {
      "cell_type": "markdown",
      "metadata": {
        "id": "view-in-github",
        "colab_type": "text"
      },
      "source": [
        "[View in Colaboratory](https://colab.research.google.com/github/bipin1404/acadview-ipython-assignmnet_12ipy/blob/master/Untitled15.ipynb)"
      ]
    },
    {
      "metadata": {
        "id": "Rw0xmjO_KyNg",
        "colab_type": "code",
        "colab": {}
      },
      "cell_type": "code",
      "source": [
        "import pandas as pd\n",
        "import numpy as np\n",
        "import matplotlib.pyplot as pl\n",
        "import seaborn as sns\n",
        "from sklearn.datasets import load_digits\n",
        "digits=load_digits()"
      ],
      "execution_count": 0,
      "outputs": []
    },
    {
      "metadata": {
        "id": "eAo7SCweLKyN",
        "colab_type": "code",
        "colab": {
          "base_uri": "https://localhost:8080/",
          "height": 34
        },
        "outputId": "669a0b82-639e-44f9-a76c-d562d7e7c1b0"
      },
      "cell_type": "code",
      "source": [
        "digits.data.shape\n"
      ],
      "execution_count": 32,
      "outputs": [
        {
          "output_type": "execute_result",
          "data": {
            "text/plain": [
              "(1797, 64)"
            ]
          },
          "metadata": {
            "tags": []
          },
          "execution_count": 32
        }
      ]
    },
    {
      "metadata": {
        "id": "Q_JU85UqN9Fx",
        "colab_type": "code",
        "colab": {
          "base_uri": "https://localhost:8080/",
          "height": 136
        },
        "outputId": "a2e1160f-b826-469d-e80b-b114f19e210b"
      },
      "cell_type": "code",
      "source": [
        "digits.data"
      ],
      "execution_count": 33,
      "outputs": [
        {
          "output_type": "execute_result",
          "data": {
            "text/plain": [
              "array([[ 0.,  0.,  5., ...,  0.,  0.,  0.],\n",
              "       [ 0.,  0.,  0., ..., 10.,  0.,  0.],\n",
              "       [ 0.,  0.,  0., ..., 16.,  9.,  0.],\n",
              "       ...,\n",
              "       [ 0.,  0.,  1., ...,  6.,  0.,  0.],\n",
              "       [ 0.,  0.,  2., ..., 12.,  0.,  0.],\n",
              "       [ 0.,  0., 10., ..., 12.,  1.,  0.]])"
            ]
          },
          "metadata": {
            "tags": []
          },
          "execution_count": 33
        }
      ]
    },
    {
      "metadata": {
        "id": "cOc2pA83FFgj",
        "colab_type": "code",
        "colab": {}
      },
      "cell_type": "code",
      "source": [
        ""
      ],
      "execution_count": 0,
      "outputs": []
    },
    {
      "metadata": {
        "id": "Z5DXizQ8N_3y",
        "colab_type": "code",
        "colab": {
          "base_uri": "https://localhost:8080/",
          "height": 372
        },
        "outputId": "37c947e4-ec57-4626-bd4f-41555f59a084"
      },
      "cell_type": "code",
      "source": [
        "pl.gray() \n",
        "pl.matshow(digits.images[50]) \n",
        "pl.show()"
      ],
      "execution_count": 60,
      "outputs": [
        {
          "output_type": "display_data",
          "data": {
            "text/plain": [
              "<matplotlib.figure.Figure at 0x7feb9f1458d0>"
            ]
          },
          "metadata": {
            "tags": []
          }
        },
        {
          "output_type": "display_data",
          "data": {
            "image/png": "[encoded data removed]",
            "text/plain": [
              "<matplotlib.figure.Figure at 0x7feb9f1451d0>"
            ]
          },
          "metadata": {
            "tags": []
          }
        }
      ]
    },
    {
      "metadata": {
        "id": "Vd-sS_Ljgt5y",
        "colab_type": "code",
        "colab": {}
      },
      "cell_type": "code",
      "source": [
        ""
      ],
      "execution_count": 0,
      "outputs": []
    },
    {
      "metadata": {
        "id": "cqe_USmXL0fx",
        "colab_type": "code",
        "colab": {
          "base_uri": "https://localhost:8080/",
          "height": 34
        },
        "outputId": "d9b478b3-a99c-46f1-c1b9-e877884b923a"
      },
      "cell_type": "code",
      "source": [
        "x=pd.DataFrame(np.array(digits.data))\n",
        "y=pd.DataFrame(np.array(digits.target))\n",
        "type(x)\n",
        "type(y)"
      ],
      "execution_count": 34,
      "outputs": [
        {
          "output_type": "execute_result",
          "data": {
            "text/plain": [
              "pandas.core.frame.DataFrame"
            ]
          },
          "metadata": {
            "tags": []
          },
          "execution_count": 34
        }
      ]
    },
    {
      "metadata": {
        "id": "JdhuWzUuHkpO",
        "colab_type": "code",
        "colab": {
          "base_uri": "https://localhost:8080/",
          "height": 250
        },
        "outputId": "70b4183f-3da3-49e6-8acd-4d9dfcb6bb40"
      },
      "cell_type": "code",
      "source": [
        "print(\"all value of X\")\n",
        "x.head()"
      ],
      "execution_count": 52,
      "outputs": [
        {
          "output_type": "stream",
          "text": [
            "all value of X\n"
          ],
          "name": "stdout"
        },
        {
          "output_type": "execute_result",
          "data": {
            "text/html": [
              "<div>\n",
              "<style scoped>\n",
              "    .dataframe tbody tr th:only-of-type {\n",
              "        vertical-align: middle;\n",
              "    }\n",
              "\n",
              "    .dataframe tbody tr th {\n",
              "        vertical-align: top;\n",
              "    }\n",
              "\n",
              "    .dataframe thead th {\n",
              "        text-align: right;\n",
              "    }\n",
              "</style>\n",
              "<table border=\"1\" class=\"dataframe\">\n",
              "  <thead>\n",
              "    <tr style=\"text-align: right;\">\n",
              "      <th></th>\n",
              "      <th>0</th>\n",
              "      <th>1</th>\n",
              "      <th>2</th>\n",
              "      <th>3</th>\n",
              "      <th>4</th>\n",
              "      <th>5</th>\n",
              "      <th>6</th>\n",
              "      <th>7</th>\n",
              "      <th>8</th>\n",
              "      <th>9</th>\n",
              "      <th>...</th>\n",
              "      <th>54</th>\n",
              "      <th>55</th>\n",
              "      <th>56</th>\n",
              "      <th>57</th>\n",
              "      <th>58</th>\n",
              "      <th>59</th>\n",
              "      <th>60</th>\n",
              "      <th>61</th>\n",
              "      <th>62</th>\n",
              "      <th>63</th>\n",
              "    </tr>\n",
              "  </thead>\n",
              "  <tbody>\n",
              "    <tr>\n",
              "      <th>0</th>\n",
              "      <td>0.0</td>\n",
              "      <td>0.0</td>\n",
              "      <td>5.0</td>\n",
              "      <td>13.0</td>\n",
              "      <td>9.0</td>\n",
              "      <td>1.0</td>\n",
              "      <td>0.0</td>\n",
              "      <td>0.0</td>\n",
              "      <td>0.0</td>\n",
              "      <td>0.0</td>\n",
              "      <td>...</td>\n",
              "      <td>0.0</td>\n",
              "      <td>0.0</td>\n",
              "      <td>0.0</td>\n",
              "      <td>0.0</td>\n",
              "      <td>6.0</td>\n",
              "      <td>13.0</td>\n",
              "      <td>10.0</td>\n",
              "      <td>0.0</td>\n",
              "      <td>0.0</td>\n",
              "      <td>0.0</td>\n",
              "    </tr>\n",
              "    <tr>\n",
              "      <th>1</th>\n",
              "      <td>0.0</td>\n",
              "      <td>0.0</td>\n",
              "      <td>0.0</td>\n",
              "      <td>12.0</td>\n",
              "      <td>13.0</td>\n",
              "      <td>5.0</td>\n",
              "      <td>0.0</td>\n",
              "      <td>0.0</td>\n",
              "      <td>0.0</td>\n",
              "      <td>0.0</td>\n",
              "      <td>...</td>\n",
              "      <td>0.0</td>\n",
              "      <td>0.0</td>\n",
              "      <td>0.0</td>\n",
              "      <td>0.0</td>\n",
              "      <td>0.0</td>\n",
              "      <td>11.0</td>\n",
              "      <td>16.0</td>\n",
              "      <td>10.0</td>\n",
              "      <td>0.0</td>\n",
              "      <td>0.0</td>\n",
              "    </tr>\n",
              "    <tr>\n",
              "      <th>2</th>\n",
              "      <td>0.0</td>\n",
              "      <td>0.0</td>\n",
              "      <td>0.0</td>\n",
              "      <td>4.0</td>\n",
              "      <td>15.0</td>\n",
              "      <td>12.0</td>\n",
              "      <td>0.0</td>\n",
              "      <td>0.0</td>\n",
              "      <td>0.0</td>\n",
              "      <td>0.0</td>\n",
              "      <td>...</td>\n",
              "      <td>5.0</td>\n",
              "      <td>0.0</td>\n",
              "      <td>0.0</td>\n",
              "      <td>0.0</td>\n",
              "      <td>0.0</td>\n",
              "      <td>3.0</td>\n",
              "      <td>11.0</td>\n",
              "      <td>16.0</td>\n",
              "      <td>9.0</td>\n",
              "      <td>0.0</td>\n",
              "    </tr>\n",
              "    <tr>\n",
              "      <th>3</th>\n",
              "      <td>0.0</td>\n",
              "      <td>0.0</td>\n",
              "      <td>7.0</td>\n",
              "      <td>15.0</td>\n",
              "      <td>13.0</td>\n",
              "      <td>1.0</td>\n",
              "      <td>0.0</td>\n",
              "      <td>0.0</td>\n",
              "      <td>0.0</td>\n",
              "      <td>8.0</td>\n",
              "      <td>...</td>\n",
              "      <td>9.0</td>\n",
              "      <td>0.0</td>\n",
              "      <td>0.0</td>\n",
              "      <td>0.0</td>\n",
              "      <td>7.0</td>\n",
              "      <td>13.0</td>\n",
              "      <td>13.0</td>\n",
              "      <td>9.0</td>\n",
              "      <td>0.0</td>\n",
              "      <td>0.0</td>\n",
              "    </tr>\n",
              "    <tr>\n",
              "      <th>4</th>\n",
              "      <td>0.0</td>\n",
              "      <td>0.0</td>\n",
              "      <td>0.0</td>\n",
              "      <td>1.0</td>\n",
              "      <td>11.0</td>\n",
              "      <td>0.0</td>\n",
              "      <td>0.0</td>\n",
              "      <td>0.0</td>\n",
              "      <td>0.0</td>\n",
              "      <td>0.0</td>\n",
              "      <td>...</td>\n",
              "      <td>0.0</td>\n",
              "      <td>0.0</td>\n",
              "      <td>0.0</td>\n",
              "      <td>0.0</td>\n",
              "      <td>0.0</td>\n",
              "      <td>2.0</td>\n",
              "      <td>16.0</td>\n",
              "      <td>4.0</td>\n",
              "      <td>0.0</td>\n",
              "      <td>0.0</td>\n",
              "    </tr>\n",
              "  </tbody>\n",
              "</table>\n",
              "<p>5 rows × 64 columns</p>\n",
              "</div>"
            ],
            "text/plain": [
              "    0    1    2     3     4     5    6    7    8    9  ...    54   55   56  \\\n",
              "0  0.0  0.0  5.0  13.0   9.0   1.0  0.0  0.0  0.0  0.0 ...   0.0  0.0  0.0   \n",
              "1  0.0  0.0  0.0  12.0  13.0   5.0  0.0  0.0  0.0  0.0 ...   0.0  0.0  0.0   \n",
              "2  0.0  0.0  0.0   4.0  15.0  12.0  0.0  0.0  0.0  0.0 ...   5.0  0.0  0.0   \n",
              "3  0.0  0.0  7.0  15.0  13.0   1.0  0.0  0.0  0.0  8.0 ...   9.0  0.0  0.0   \n",
              "4  0.0  0.0  0.0   1.0  11.0   0.0  0.0  0.0  0.0  0.0 ...   0.0  0.0  0.0   \n",
              "\n",
              "    57   58    59    60    61   62   63  \n",
              "0  0.0  6.0  13.0  10.0   0.0  0.0  0.0  \n",
              "1  0.0  0.0  11.0  16.0  10.0  0.0  0.0  \n",
              "2  0.0  0.0   3.0  11.0  16.0  9.0  0.0  \n",
              "3  0.0  7.0  13.0  13.0   9.0  0.0  0.0  \n",
              "4  0.0  0.0   2.0  16.0   4.0  0.0  0.0  \n",
              "\n",
              "[5 rows x 64 columns]"
            ]
          },
          "metadata": {
            "tags": []
          },
          "execution_count": 52
        }
      ]
    },
    {
      "metadata": {
        "id": "Ehwc-cJGH54R",
        "colab_type": "code",
        "colab": {
          "base_uri": "https://localhost:8080/",
          "height": 221
        },
        "outputId": "fb02762c-377b-435c-f751-672bd935f97f"
      },
      "cell_type": "code",
      "source": [
        "print(\"all value of Y\")\n",
        "y.head()"
      ],
      "execution_count": 53,
      "outputs": [
        {
          "output_type": "stream",
          "text": [
            "all value of Y\n"
          ],
          "name": "stdout"
        },
        {
          "output_type": "execute_result",
          "data": {
            "text/html": [
              "<div>\n",
              "<style scoped>\n",
              "    .dataframe tbody tr th:only-of-type {\n",
              "        vertical-align: middle;\n",
              "    }\n",
              "\n",
              "    .dataframe tbody tr th {\n",
              "        vertical-align: top;\n",
              "    }\n",
              "\n",
              "    .dataframe thead th {\n",
              "        text-align: right;\n",
              "    }\n",
              "</style>\n",
              "<table border=\"1\" class=\"dataframe\">\n",
              "  <thead>\n",
              "    <tr style=\"text-align: right;\">\n",
              "      <th></th>\n",
              "      <th>0</th>\n",
              "    </tr>\n",
              "  </thead>\n",
              "  <tbody>\n",
              "    <tr>\n",
              "      <th>0</th>\n",
              "      <td>0</td>\n",
              "    </tr>\n",
              "    <tr>\n",
              "      <th>1</th>\n",
              "      <td>1</td>\n",
              "    </tr>\n",
              "    <tr>\n",
              "      <th>2</th>\n",
              "      <td>2</td>\n",
              "    </tr>\n",
              "    <tr>\n",
              "      <th>3</th>\n",
              "      <td>3</td>\n",
              "    </tr>\n",
              "    <tr>\n",
              "      <th>4</th>\n",
              "      <td>4</td>\n",
              "    </tr>\n",
              "  </tbody>\n",
              "</table>\n",
              "</div>"
            ],
            "text/plain": [
              "   0\n",
              "0  0\n",
              "1  1\n",
              "2  2\n",
              "3  3\n",
              "4  4"
            ]
          },
          "metadata": {
            "tags": []
          },
          "execution_count": 53
        }
      ]
    },
    {
      "metadata": {
        "id": "kRQ1Hl9RH50v",
        "colab_type": "code",
        "colab": {
          "base_uri": "https://localhost:8080/",
          "height": 346
        },
        "outputId": "1676a18a-ee31-4472-9a33-1c8bd67b5be6"
      },
      "cell_type": "code",
      "source": [
        "x.describe()"
      ],
      "execution_count": 55,
      "outputs": [
        {
          "output_type": "execute_result",
          "data": {
            "text/html": [
              "<div>\n",
              "<style scoped>\n",
              "    .dataframe tbody tr th:only-of-type {\n",
              "        vertical-align: middle;\n",
              "    }\n",
              "\n",
              "    .dataframe tbody tr th {\n",
              "        vertical-align: top;\n",
              "    }\n",
              "\n",
              "    .dataframe thead th {\n",
              "        text-align: right;\n",
              "    }\n",
              "</style>\n",
              "<table border=\"1\" class=\"dataframe\">\n",
              "  <thead>\n",
              "    <tr style=\"text-align: right;\">\n",
              "      <th></th>\n",
              "      <th>0</th>\n",
              "      <th>1</th>\n",
              "      <th>2</th>\n",
              "      <th>3</th>\n",
              "      <th>4</th>\n",
              "      <th>5</th>\n",
              "      <th>6</th>\n",
              "      <th>7</th>\n",
              "      <th>8</th>\n",
              "      <th>9</th>\n",
              "      <th>...</th>\n",
              "      <th>54</th>\n",
              "      <th>55</th>\n",
              "      <th>56</th>\n",
              "      <th>57</th>\n",
              "      <th>58</th>\n",
              "      <th>59</th>\n",
              "      <th>60</th>\n",
              "      <th>61</th>\n",
              "      <th>62</th>\n",
              "      <th>63</th>\n",
              "    </tr>\n",
              "  </thead>\n",
              "  <tbody>\n",
              "    <tr>\n",
              "      <th>count</th>\n",
              "      <td>1797.0</td>\n",
              "      <td>1797.000000</td>\n",
              "      <td>1797.000000</td>\n",
              "      <td>1797.000000</td>\n",
              "      <td>1797.000000</td>\n",
              "      <td>1797.000000</td>\n",
              "      <td>1797.000000</td>\n",
              "      <td>1797.000000</td>\n",
              "      <td>1797.000000</td>\n",
              "      <td>1797.000000</td>\n",
              "      <td>...</td>\n",
              "      <td>1797.000000</td>\n",
              "      <td>1797.000000</td>\n",
              "      <td>1797.000000</td>\n",
              "      <td>1797.000000</td>\n",
              "      <td>1797.000000</td>\n",
              "      <td>1797.000000</td>\n",
              "      <td>1797.000000</td>\n",
              "      <td>1797.000000</td>\n",
              "      <td>1797.000000</td>\n",
              "      <td>1797.000000</td>\n",
              "    </tr>\n",
              "    <tr>\n",
              "      <th>mean</th>\n",
              "      <td>0.0</td>\n",
              "      <td>0.303840</td>\n",
              "      <td>5.204786</td>\n",
              "      <td>11.835838</td>\n",
              "      <td>11.848080</td>\n",
              "      <td>5.781859</td>\n",
              "      <td>1.362270</td>\n",
              "      <td>0.129661</td>\n",
              "      <td>0.005565</td>\n",
              "      <td>1.993879</td>\n",
              "      <td>...</td>\n",
              "      <td>3.725097</td>\n",
              "      <td>0.206455</td>\n",
              "      <td>0.000556</td>\n",
              "      <td>0.279354</td>\n",
              "      <td>5.557596</td>\n",
              "      <td>12.089037</td>\n",
              "      <td>11.809126</td>\n",
              "      <td>6.764051</td>\n",
              "      <td>2.067891</td>\n",
              "      <td>0.364496</td>\n",
              "    </tr>\n",
              "    <tr>\n",
              "      <th>std</th>\n",
              "      <td>0.0</td>\n",
              "      <td>0.907192</td>\n",
              "      <td>4.754826</td>\n",
              "      <td>4.248842</td>\n",
              "      <td>4.287388</td>\n",
              "      <td>5.666418</td>\n",
              "      <td>3.325775</td>\n",
              "      <td>1.037383</td>\n",
              "      <td>0.094222</td>\n",
              "      <td>3.196160</td>\n",
              "      <td>...</td>\n",
              "      <td>4.919406</td>\n",
              "      <td>0.984401</td>\n",
              "      <td>0.023590</td>\n",
              "      <td>0.934302</td>\n",
              "      <td>5.103019</td>\n",
              "      <td>4.374694</td>\n",
              "      <td>4.933947</td>\n",
              "      <td>5.900623</td>\n",
              "      <td>4.090548</td>\n",
              "      <td>1.860122</td>\n",
              "    </tr>\n",
              "    <tr>\n",
              "      <th>min</th>\n",
              "      <td>0.0</td>\n",
              "      <td>0.000000</td>\n",
              "      <td>0.000000</td>\n",
              "      <td>0.000000</td>\n",
              "      <td>0.000000</td>\n",
              "      <td>0.000000</td>\n",
              "      <td>0.000000</td>\n",
              "      <td>0.000000</td>\n",
              "      <td>0.000000</td>\n",
              "      <td>0.000000</td>\n",
              "      <td>...</td>\n",
              "      <td>0.000000</td>\n",
              "      <td>0.000000</td>\n",
              "      <td>0.000000</td>\n",
              "      <td>0.000000</td>\n",
              "      <td>0.000000</td>\n",
              "      <td>0.000000</td>\n",
              "      <td>0.000000</td>\n",
              "      <td>0.000000</td>\n",
              "      <td>0.000000</td>\n",
              "      <td>0.000000</td>\n",
              "    </tr>\n",
              "    <tr>\n",
              "      <th>25%</th>\n",
              "      <td>0.0</td>\n",
              "      <td>0.000000</td>\n",
              "      <td>1.000000</td>\n",
              "      <td>10.000000</td>\n",
              "      <td>10.000000</td>\n",
              "      <td>0.000000</td>\n",
              "      <td>0.000000</td>\n",
              "      <td>0.000000</td>\n",
              "      <td>0.000000</td>\n",
              "      <td>0.000000</td>\n",
              "      <td>...</td>\n",
              "      <td>0.000000</td>\n",
              "      <td>0.000000</td>\n",
              "      <td>0.000000</td>\n",
              "      <td>0.000000</td>\n",
              "      <td>1.000000</td>\n",
              "      <td>11.000000</td>\n",
              "      <td>10.000000</td>\n",
              "      <td>0.000000</td>\n",
              "      <td>0.000000</td>\n",
              "      <td>0.000000</td>\n",
              "    </tr>\n",
              "    <tr>\n",
              "      <th>50%</th>\n",
              "      <td>0.0</td>\n",
              "      <td>0.000000</td>\n",
              "      <td>4.000000</td>\n",
              "      <td>13.000000</td>\n",
              "      <td>13.000000</td>\n",
              "      <td>4.000000</td>\n",
              "      <td>0.000000</td>\n",
              "      <td>0.000000</td>\n",
              "      <td>0.000000</td>\n",
              "      <td>0.000000</td>\n",
              "      <td>...</td>\n",
              "      <td>1.000000</td>\n",
              "      <td>0.000000</td>\n",
              "      <td>0.000000</td>\n",
              "      <td>0.000000</td>\n",
              "      <td>4.000000</td>\n",
              "      <td>13.000000</td>\n",
              "      <td>14.000000</td>\n",
              "      <td>6.000000</td>\n",
              "      <td>0.000000</td>\n",
              "      <td>0.000000</td>\n",
              "    </tr>\n",
              "    <tr>\n",
              "      <th>75%</th>\n",
              "      <td>0.0</td>\n",
              "      <td>0.000000</td>\n",
              "      <td>9.000000</td>\n",
              "      <td>15.000000</td>\n",
              "      <td>15.000000</td>\n",
              "      <td>11.000000</td>\n",
              "      <td>0.000000</td>\n",
              "      <td>0.000000</td>\n",
              "      <td>0.000000</td>\n",
              "      <td>3.000000</td>\n",
              "      <td>...</td>\n",
              "      <td>7.000000</td>\n",
              "      <td>0.000000</td>\n",
              "      <td>0.000000</td>\n",
              "      <td>0.000000</td>\n",
              "      <td>10.000000</td>\n",
              "      <td>16.000000</td>\n",
              "      <td>16.000000</td>\n",
              "      <td>12.000000</td>\n",
              "      <td>2.000000</td>\n",
              "      <td>0.000000</td>\n",
              "    </tr>\n",
              "    <tr>\n",
              "      <th>max</th>\n",
              "      <td>0.0</td>\n",
              "      <td>8.000000</td>\n",
              "      <td>16.000000</td>\n",
              "      <td>16.000000</td>\n",
              "      <td>16.000000</td>\n",
              "      <td>16.000000</td>\n",
              "      <td>16.000000</td>\n",
              "      <td>15.000000</td>\n",
              "      <td>2.000000</td>\n",
              "      <td>16.000000</td>\n",
              "      <td>...</td>\n",
              "      <td>16.000000</td>\n",
              "      <td>13.000000</td>\n",
              "      <td>1.000000</td>\n",
              "      <td>9.000000</td>\n",
              "      <td>16.000000</td>\n",
              "      <td>16.000000</td>\n",
              "      <td>16.000000</td>\n",
              "      <td>16.000000</td>\n",
              "      <td>16.000000</td>\n",
              "      <td>16.000000</td>\n",
              "    </tr>\n",
              "  </tbody>\n",
              "</table>\n",
              "<p>8 rows × 64 columns</p>\n",
              "</div>"
            ],
            "text/plain": [
              "           0            1            2            3            4   \\\n",
              "count  1797.0  1797.000000  1797.000000  1797.000000  1797.000000   \n",
              "mean      0.0     0.303840     5.204786    11.835838    11.848080   \n",
              "std       0.0     0.907192     4.754826     4.248842     4.287388   \n",
              "min       0.0     0.000000     0.000000     0.000000     0.000000   \n",
              "25%       0.0     0.000000     1.000000    10.000000    10.000000   \n",
              "50%       0.0     0.000000     4.000000    13.000000    13.000000   \n",
              "75%       0.0     0.000000     9.000000    15.000000    15.000000   \n",
              "max       0.0     8.000000    16.000000    16.000000    16.000000   \n",
              "\n",
              "                5            6            7            8            9   \\\n",
              "count  1797.000000  1797.000000  1797.000000  1797.000000  1797.000000   \n",
              "mean      5.781859     1.362270     0.129661     0.005565     1.993879   \n",
              "std       5.666418     3.325775     1.037383     0.094222     3.196160   \n",
              "min       0.000000     0.000000     0.000000     0.000000     0.000000   \n",
              "25%       0.000000     0.000000     0.000000     0.000000     0.000000   \n",
              "50%       4.000000     0.000000     0.000000     0.000000     0.000000   \n",
              "75%      11.000000     0.000000     0.000000     0.000000     3.000000   \n",
              "max      16.000000    16.000000    15.000000     2.000000    16.000000   \n",
              "\n",
              "          ...                54           55           56           57  \\\n",
              "count     ...       1797.000000  1797.000000  1797.000000  1797.000000   \n",
              "mean      ...          3.725097     0.206455     0.000556     0.279354   \n",
              "std       ...          4.919406     0.984401     0.023590     0.934302   \n",
              "min       ...          0.000000     0.000000     0.000000     0.000000   \n",
              "25%       ...          0.000000     0.000000     0.000000     0.000000   \n",
              "50%       ...          1.000000     0.000000     0.000000     0.000000   \n",
              "75%       ...          7.000000     0.000000     0.000000     0.000000   \n",
              "max       ...         16.000000    13.000000     1.000000     9.000000   \n",
              "\n",
              "                58           59           60           61           62  \\\n",
              "count  1797.000000  1797.000000  1797.000000  1797.000000  1797.000000   \n",
              "mean      5.557596    12.089037    11.809126     6.764051     2.067891   \n",
              "std       5.103019     4.374694     4.933947     5.900623     4.090548   \n",
              "min       0.000000     0.000000     0.000000     0.000000     0.000000   \n",
              "25%       1.000000    11.000000    10.000000     0.000000     0.000000   \n",
              "50%       4.000000    13.000000    14.000000     6.000000     0.000000   \n",
              "75%      10.000000    16.000000    16.000000    12.000000     2.000000   \n",
              "max      16.000000    16.000000    16.000000    16.000000    16.000000   \n",
              "\n",
              "                63  \n",
              "count  1797.000000  \n",
              "mean      0.364496  \n",
              "std       1.860122  \n",
              "min       0.000000  \n",
              "25%       0.000000  \n",
              "50%       0.000000  \n",
              "75%       0.000000  \n",
              "max      16.000000  \n",
              "\n",
              "[8 rows x 64 columns]"
            ]
          },
          "metadata": {
            "tags": []
          },
          "execution_count": 55
        }
      ]
    },
    {
      "metadata": {
        "id": "CR8w0NbbHkmP",
        "colab_type": "code",
        "colab": {
          "base_uri": "https://localhost:8080/",
          "height": 297
        },
        "outputId": "d37ca7ef-cea7-4e9a-f727-036324c0e234"
      },
      "cell_type": "code",
      "source": [
        "y.describe()"
      ],
      "execution_count": 56,
      "outputs": [
        {
          "output_type": "execute_result",
          "data": {
            "text/html": [
              "<div>\n",
              "<style scoped>\n",
              "    .dataframe tbody tr th:only-of-type {\n",
              "        vertical-align: middle;\n",
              "    }\n",
              "\n",
              "    .dataframe tbody tr th {\n",
              "        vertical-align: top;\n",
              "    }\n",
              "\n",
              "    .dataframe thead th {\n",
              "        text-align: right;\n",
              "    }\n",
              "</style>\n",
              "<table border=\"1\" class=\"dataframe\">\n",
              "  <thead>\n",
              "    <tr style=\"text-align: right;\">\n",
              "      <th></th>\n",
              "      <th>0</th>\n",
              "    </tr>\n",
              "  </thead>\n",
              "  <tbody>\n",
              "    <tr>\n",
              "      <th>count</th>\n",
              "      <td>1797.000000</td>\n",
              "    </tr>\n",
              "    <tr>\n",
              "      <th>mean</th>\n",
              "      <td>4.490818</td>\n",
              "    </tr>\n",
              "    <tr>\n",
              "      <th>std</th>\n",
              "      <td>2.865304</td>\n",
              "    </tr>\n",
              "    <tr>\n",
              "      <th>min</th>\n",
              "      <td>0.000000</td>\n",
              "    </tr>\n",
              "    <tr>\n",
              "      <th>25%</th>\n",
              "      <td>2.000000</td>\n",
              "    </tr>\n",
              "    <tr>\n",
              "      <th>50%</th>\n",
              "      <td>4.000000</td>\n",
              "    </tr>\n",
              "    <tr>\n",
              "      <th>75%</th>\n",
              "      <td>7.000000</td>\n",
              "    </tr>\n",
              "    <tr>\n",
              "      <th>max</th>\n",
              "      <td>9.000000</td>\n",
              "    </tr>\n",
              "  </tbody>\n",
              "</table>\n",
              "</div>"
            ],
            "text/plain": [
              "                 0\n",
              "count  1797.000000\n",
              "mean      4.490818\n",
              "std       2.865304\n",
              "min       0.000000\n",
              "25%       2.000000\n",
              "50%       4.000000\n",
              "75%       7.000000\n",
              "max       9.000000"
            ]
          },
          "metadata": {
            "tags": []
          },
          "execution_count": 56
        }
      ]
    },
    {
      "metadata": {
        "id": "COmfL9-4YUP6",
        "colab_type": "text"
      },
      "cell_type": "markdown",
      "source": [
        "# **Spliting and Logistic_regression**"
      ]
    },
    {
      "metadata": {
        "id": "usdwunnGK-23",
        "colab_type": "code",
        "colab": {}
      },
      "cell_type": "code",
      "source": [
        "from sklearn.linear_model import LogisticRegression\n",
        "from sklearn.cross_validation import train_test_split\n",
        "reg=LogisticRegression()"
      ],
      "execution_count": 0,
      "outputs": []
    },
    {
      "metadata": {
        "id": "3AqgLyS-Qa-T",
        "colab_type": "code",
        "colab": {}
      },
      "cell_type": "code",
      "source": [
        ""
      ],
      "execution_count": 0,
      "outputs": []
    },
    {
      "metadata": {
        "id": "4x_piKhkMtnY",
        "colab_type": "code",
        "colab": {
          "base_uri": "https://localhost:8080/",
          "height": 139
        },
        "outputId": "dcc77a9a-c8bf-4fbe-c42d-127369637999"
      },
      "cell_type": "code",
      "source": [
        "x_train , x_test , y_train , y_test = train_test_split(x , y, test_size = 0.10,random_state =2)\n",
        "model=reg.fit(x_train,y_train)\n",
        "model"
      ],
      "execution_count": 41,
      "outputs": [
        {
          "output_type": "stream",
          "text": [
            "/usr/local/lib/python3.6/dist-packages/sklearn/utils/validation.py:578: DataConversionWarning: A column-vector y was passed when a 1d array was expected. Please change the shape of y to (n_samples, ), for example using ravel().\n",
            "  y = column_or_1d(y, warn=True)\n"
          ],
          "name": "stderr"
        },
        {
          "output_type": "execute_result",
          "data": {
            "text/plain": [
              "LogisticRegression(C=1.0, class_weight=None, dual=False, fit_intercept=True,\n",
              "          intercept_scaling=1, max_iter=100, multi_class='ovr', n_jobs=1,\n",
              "          penalty='l2', random_state=None, solver='liblinear', tol=0.0001,\n",
              "          verbose=0, warm_start=False)"
            ]
          },
          "metadata": {
            "tags": []
          },
          "execution_count": 41
        }
      ]
    },
    {
      "metadata": {
        "id": "LlKla_t3Yfoo",
        "colab_type": "text"
      },
      "cell_type": "markdown",
      "source": [
        ""
      ]
    },
    {
      "metadata": {
        "id": "VbDhe4TtNlGK",
        "colab_type": "code",
        "colab": {
          "base_uri": "https://localhost:8080/",
          "height": 34
        },
        "outputId": "41e6c326-7c99-42ad-b132-ed0f09fcabef"
      },
      "cell_type": "code",
      "source": [
        "pred=reg.predict(x_test)\n",
        "reg.score(x_test,y_test)"
      ],
      "execution_count": 42,
      "outputs": [
        {
          "output_type": "execute_result",
          "data": {
            "text/plain": [
              "0.9277777777777778"
            ]
          },
          "metadata": {
            "tags": []
          },
          "execution_count": 42
        }
      ]
    },
    {
      "metadata": {
        "id": "JwpsMUBRbiTA",
        "colab_type": "code",
        "colab": {
          "base_uri": "https://localhost:8080/",
          "height": 51
        },
        "outputId": "00a734ca-8e54-45d6-95ac-b818d9746f4f"
      },
      "cell_type": "code",
      "source": [
        "print(pred.shape)\n",
        "print(y_test.shape)"
      ],
      "execution_count": 43,
      "outputs": [
        {
          "output_type": "stream",
          "text": [
            "(180,)\n",
            "(180, 1)\n"
          ],
          "name": "stdout"
        }
      ]
    },
    {
      "metadata": {
        "id": "FpzWULUjZWU6",
        "colab_type": "text"
      },
      "cell_type": "markdown",
      "source": [
        "# **Accuracy classification score**"
      ]
    },
    {
      "metadata": {
        "id": "aFTmgnU-Y5Q3",
        "colab_type": "code",
        "colab": {
          "base_uri": "https://localhost:8080/",
          "height": 34
        },
        "outputId": "c60f09c5-93ef-4f30-a752-6255384185bf"
      },
      "cell_type": "code",
      "source": [
        "from sklearn import metrics\n",
        "from sklearn.metrics import accuracy_score\n",
        "accuracy_score(y_test, pred, normalize=False)\n",
        "  "
      ],
      "execution_count": 44,
      "outputs": [
        {
          "output_type": "execute_result",
          "data": {
            "text/plain": [
              "167"
            ]
          },
          "metadata": {
            "tags": []
          },
          "execution_count": 44
        }
      ]
    },
    {
      "metadata": {
        "id": "ph5iC_q0b1Zk",
        "colab_type": "text"
      },
      "cell_type": "markdown",
      "source": [
        "# ***Logarthimic  loss***"
      ]
    },
    {
      "metadata": {
        "id": "F0IAQvG9Zgnh",
        "colab_type": "code",
        "colab": {
          "base_uri": "https://localhost:8080/",
          "height": 34
        },
        "outputId": "4548cd6a-0a6a-4156-a378-f4128e72bf05"
      },
      "cell_type": "code",
      "source": [
        "from sklearn import metrics\n",
        "from sklearn.metrics import log_loss\n",
        "pred1=reg.predict_proba(x_test)\n",
        "loss=log_loss(y_test, pred1)\n",
        "print(\"loss=\",loss)"
      ],
      "execution_count": 45,
      "outputs": [
        {
          "output_type": "stream",
          "text": [
            "loss= 0.46124866636660433\n"
          ],
          "name": "stdout"
        }
      ]
    },
    {
      "metadata": {
        "id": "Lz9cTH_3cM5W",
        "colab_type": "text"
      },
      "cell_type": "markdown",
      "source": [
        "# **R2_score**"
      ]
    },
    {
      "metadata": {
        "id": "135lz8ENcNXU",
        "colab_type": "code",
        "colab": {
          "base_uri": "https://localhost:8080/",
          "height": 34
        },
        "outputId": "552c9ead-b8a2-4a0d-c1d3-2299195c9d51"
      },
      "cell_type": "code",
      "source": [
        "  from sklearn.metrics import r2_score\n",
        "  r2_score(y_test,pred)"
      ],
      "execution_count": 46,
      "outputs": [
        {
          "output_type": "execute_result",
          "data": {
            "text/plain": [
              "0.7814052519517388"
            ]
          },
          "metadata": {
            "tags": []
          },
          "execution_count": 46
        }
      ]
    },
    {
      "metadata": {
        "id": "JCMw1wrNXfON",
        "colab_type": "text"
      },
      "cell_type": "markdown",
      "source": [
        "# **Error**"
      ]
    },
    {
      "metadata": {
        "id": "BI5LNv_NNlqy",
        "colab_type": "code",
        "colab": {
          "base_uri": "https://localhost:8080/",
          "height": 34
        },
        "outputId": "6f479b36-6a55-4d61-ae99-6a4d0aadbe9f"
      },
      "cell_type": "code",
      "source": [
        "print(\"Error model\")\n",
        "from sklearn import metrics"
      ],
      "execution_count": 24,
      "outputs": [
        {
          "output_type": "stream",
          "text": [
            "Error model\n"
          ],
          "name": "stdout"
        }
      ]
    },
    {
      "metadata": {
        "id": "u-4bEeisX2IZ",
        "colab_type": "text"
      },
      "cell_type": "markdown",
      "source": [
        "# Mean_absolute error"
      ]
    },
    {
      "metadata": {
        "id": "GxMEC5UkXoo0",
        "colab_type": "code",
        "colab": {
          "base_uri": "https://localhost:8080/",
          "height": 51
        },
        "outputId": "3d683c75-2724-4ce1-f76f-268105c353f7"
      },
      "cell_type": "code",
      "source": [
        "\n",
        "print(\"\\nmean Absolute error=\",metrics.mean_absolute_error(y_test,pred))"
      ],
      "execution_count": 47,
      "outputs": [
        {
          "output_type": "stream",
          "text": [
            "\n",
            "mean Absolute error= 0.3111111111111111\n"
          ],
          "name": "stdout"
        }
      ]
    },
    {
      "metadata": {
        "id": "dLoIjpifX-PC",
        "colab_type": "text"
      },
      "cell_type": "markdown",
      "source": [
        "# Mean_squared error"
      ]
    },
    {
      "metadata": {
        "id": "ggpXxiNMXpRb",
        "colab_type": "code",
        "colab": {
          "base_uri": "https://localhost:8080/",
          "height": 51
        },
        "outputId": "3be510e9-f717-4a87-a178-89979201cca6"
      },
      "cell_type": "code",
      "source": [
        "\n",
        "print(\"\\nmean squared error=\",metrics.mean_squared_error(y_test,pred))"
      ],
      "execution_count": 48,
      "outputs": [
        {
          "output_type": "stream",
          "text": [
            "\n",
            "mean squared error= 1.711111111111111\n"
          ],
          "name": "stdout"
        }
      ]
    },
    {
      "metadata": {
        "id": "oMgy4GpXYENK",
        "colab_type": "text"
      },
      "cell_type": "markdown",
      "source": [
        "# Root Mean squared error"
      ]
    },
    {
      "metadata": {
        "id": "Gd0SqZblXogC",
        "colab_type": "code",
        "colab": {
          "base_uri": "https://localhost:8080/",
          "height": 51
        },
        "outputId": "fa27c7ec-c387-4f2c-9c7a-0637b35a7a23"
      },
      "cell_type": "code",
      "source": [
        "\n",
        "print(\"\\n root mean squared error=\",np.sqrt(metrics.mean_squared_error(y_test,pred)))"
      ],
      "execution_count": 49,
      "outputs": [
        {
          "output_type": "stream",
          "text": [
            "\n",
            " root mean squared error= 1.3080944580232388\n"
          ],
          "name": "stdout"
        }
      ]
    },
    {
      "metadata": {
        "id": "hP1vtvXsXWHr",
        "colab_type": "text"
      },
      "cell_type": "markdown",
      "source": [
        "# ***Confusion matrix***"
      ]
    },
    {
      "metadata": {
        "id": "gZCg3CWiQeG7",
        "colab_type": "code",
        "colab": {
          "base_uri": "https://localhost:8080/",
          "height": 187
        },
        "outputId": "944ea9cc-43cc-4d1f-dbaf-29e1e9a2f99a"
      },
      "cell_type": "code",
      "source": [
        "from sklearn.metrics import confusion_matrix\n",
        "matrix = confusion_matrix(y_test, pred)\n",
        "print(matrix)"
      ],
      "execution_count": 50,
      "outputs": [
        {
          "output_type": "stream",
          "text": [
            "[[14  0  0  0  0  0  0  0  0  0]\n",
            " [ 0 20  0  0  0  0  0  0  1  1]\n",
            " [ 0  0 14  0  0  0  0  0  0  0]\n",
            " [ 0  0  0 21  0  0  0  1  0  0]\n",
            " [ 0  2  0  0 17  0  0  0  1  1]\n",
            " [ 0  0  0  0  0 16  0  0  0  0]\n",
            " [ 0  0  0  0  0  0 17  0  1  0]\n",
            " [ 0  0  0  0  0  0  0 17  1  0]\n",
            " [ 0  2  0  0  0  0  0  0 17  0]\n",
            " [ 0  0  0  0  0  1  0  0  1 14]]\n"
          ],
          "name": "stdout"
        }
      ]
    },
    {
      "metadata": {
        "id": "4pLzOD43W9-w",
        "colab_type": "text"
      },
      "cell_type": "markdown",
      "source": [
        "# ***Classification Report***"
      ]
    },
    {
      "metadata": {
        "id": "NM1sW1pbNMQ6",
        "colab_type": "code",
        "colab": {
          "base_uri": "https://localhost:8080/",
          "height": 272
        },
        "outputId": "c733db0f-406e-425b-ffcd-f305954c1520"
      },
      "cell_type": "code",
      "source": [
        "from sklearn.metrics import classification_report\n",
        "report = classification_report(y_test, pred)\n",
        "print(report)"
      ],
      "execution_count": 51,
      "outputs": [
        {
          "output_type": "stream",
          "text": [
            "             precision    recall  f1-score   support\n",
            "\n",
            "          0       1.00      1.00      1.00        14\n",
            "          1       0.83      0.91      0.87        22\n",
            "          2       1.00      1.00      1.00        14\n",
            "          3       1.00      0.95      0.98        22\n",
            "          4       1.00      0.81      0.89        21\n",
            "          5       0.94      1.00      0.97        16\n",
            "          6       1.00      0.94      0.97        18\n",
            "          7       0.94      0.94      0.94        18\n",
            "          8       0.77      0.89      0.83        19\n",
            "          9       0.88      0.88      0.88        16\n",
            "\n",
            "avg / total       0.93      0.93      0.93       180\n",
            "\n"
          ],
          "name": "stdout"
        }
      ]
    }
  ]
}